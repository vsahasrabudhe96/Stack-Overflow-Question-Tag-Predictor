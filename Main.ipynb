{
 "cells": [
  {
   "cell_type": "markdown",
   "metadata": {},
   "source": [
    "## Practicum 2: Rohin Arora, Kiran Tulsulkar, Varun S, Aditya Patgaonkar"
   ]
  },
  {
   "cell_type": "markdown",
   "metadata": {},
   "source": [
    "## Q1\n",
    "Data inspection has been done using another notebook attached with the submission: PracticumDataInspection.ipynb"
   ]
  },
  {
   "cell_type": "code",
   "execution_count": 89,
   "metadata": {
    "scrolled": true
   },
   "outputs": [
    {
     "name": "stderr",
     "output_type": "stream",
     "text": [
      "/Users/rohinarora/anaconda3/lib/python3.7/site-packages/IPython/core/interactiveshell.py:3057: DtypeWarning: Columns (6) have mixed types.Specify dtype option on import or set low_memory=False.\n",
      "  interactivity=interactivity, compiler=compiler, result=result)\n"
     ]
    }
   ],
   "source": [
    "# Preprocess data\n",
    "'''\n",
    "    Replace \",\" in MotionPitcure.csv -- originalTitle and crew\n",
    "    with \" \" to avoid delimiter issues in the CSV\n",
    "'''\n",
    "mpcsv=pd.read_csv(\"FinalTables/MotionPitcure.csv\")\n",
    "mpcsv['originalTitle']=mpcsv['originalTitle'].str.replace(\",\",\" \")\n",
    "mpcsv['crew']=mpcsv['crew'].str.replace(\",\",\" \")\n",
    "mpcsv.to_csv(\"FinalTables/MotionPitcure.csv\", index=False)"
   ]
  },
  {
   "cell_type": "code",
   "execution_count": null,
   "metadata": {},
   "outputs": [],
   "source": [
    "'''\n",
    "    Replace \",\" in FinalTables.csv -- personName\n",
    "    with \" \" to avoid delimiter issues in the CSV\n",
    "'''\n",
    "\n",
    "crewcsv=pd.read_csv(\"FinalTables/Crew.csv\")\n",
    "crewcsv['personName']=crewcsv['personName'].str.replace(\",\",\" \")\n",
    "crewcsv.to_csv(\"FinalTables/Crew.csv\",index=False)"
   ]
  },
  {
   "cell_type": "code",
   "execution_count": 83,
   "metadata": {},
   "outputs": [
    {
     "name": "stderr",
     "output_type": "stream",
     "text": [
      "/Users/rohinarora/anaconda3/lib/python3.7/site-packages/IPython/core/interactiveshell.py:3057: DtypeWarning: Columns (4) have mixed types.Specify dtype option on import or set low_memory=False.\n",
      "  interactivity=interactivity, compiler=compiler, result=result)\n"
     ]
    }
   ],
   "source": [
    "'''\n",
    "    Replace \",\" in Title.csv -- title\n",
    "    with \" \" to avoid delimiter issues in the CSV\n",
    "'''\n",
    "\n",
    "Titlecsv=pd.read_csv(\"FinalTables/Title.csv\")\n",
    "Titlecsv['title']=Titlecsv['title'].str.replace(\",\",\" \")\n",
    "Titlecsv.to_csv(\"FinalTables/Title.csv\",index=False)"
   ]
  },
  {
   "cell_type": "markdown",
   "metadata": {},
   "source": [
    "### 2A ERD -- Crow's foot notation\n",
    "<img src=\"images/2Aup.png\">\n",
    "\n",
    "### 2B -- Normalized ERD notation\n",
    "<img src=\"images/2Bup.png\">\n",
    "\n",
    "### 2C -- Added attributes\n",
    "Added age and numMovies in Crew (which we'll be updating later with UPDATE statements)\n",
    "<img src=\"images/2Cupdated.png\">\n",
    "\n",
    "### 2D\n",
    "> Why to denormalize a database:\n",
    "1. To enhance query performance\n",
    "2. To make a database more convenient to manage\n",
    "3. To facilitate and accelerate reporting"
   ]
  },
  {
   "cell_type": "markdown",
   "metadata": {},
   "source": [
    "### Test connection"
   ]
  },
  {
   "cell_type": "code",
   "execution_count": 1,
   "metadata": {},
   "outputs": [
    {
     "name": "stdout",
     "output_type": "stream",
     "text": [
      "Current date is: 2020-11-16\n"
     ]
    }
   ],
   "source": [
    "import mysql.connector\n",
    "import pandas as pd\n",
    "from mysql.connector import errorcode\n",
    "def testSql():\n",
    "    ''' \n",
    "    Test SQL database connection, cursor and test it \n",
    "    '''\n",
    "    # Connect to server Mysql@localhost:3306\n",
    "    cnx = mysql.connector.connect(\n",
    "        host=\"127.0.0.1\",\n",
    "        port=3306,\n",
    "        user=\"root\",\n",
    "        password=\"12345678\")\n",
    "\n",
    "    # Get a cursor\n",
    "    cur = cnx.cursor()\n",
    "\n",
    "    # Execute a query\n",
    "    cur.execute(\"SELECT CURDATE()\")\n",
    "\n",
    "    # Fetch one result\n",
    "    row = cur.fetchone()\n",
    "    print(\"Current date is: {0}\".format(row[0]))\n",
    "\n",
    "    # Close connection\n",
    "    cnx.close()\n",
    "\n",
    "testSql()"
   ]
  },
  {
   "cell_type": "markdown",
   "metadata": {},
   "source": [
    "## Q3 and Q4\n",
    "### Create Tables and load data"
   ]
  },
  {
   "cell_type": "code",
   "execution_count": 2,
   "metadata": {},
   "outputs": [],
   "source": [
    "''' Intialize SQL database connection, cursor '''\n",
    "# connect to server\n",
    "cnx = mysql.connector.connect(\n",
    "    host=\"127.0.0.1\",\n",
    "    port=3306,\n",
    "    user=\"root\",\n",
    "    password=\"12345678\")\n",
    "\n",
    "# Get a cursor\n",
    "cursor = cnx.cursor()"
   ]
  },
  {
   "cell_type": "code",
   "execution_count": 3,
   "metadata": {},
   "outputs": [
    {
     "name": "stdout",
     "output_type": "stream",
     "text": [
      "DB exists\n"
     ]
    }
   ],
   "source": [
    "# create database\n",
    "DB_NAME = 'IMDB'\n",
    "def create_database(cursor):\n",
    "    try:\n",
    "        cursor.execute(\n",
    "            \"CREATE DATABASE {} DEFAULT CHARACTER SET 'utf8'\".format(DB_NAME))\n",
    "    except mysql.connector.Error as err:\n",
    "        print(\"Failed creating database: {}\".format(err))\n",
    "        exit(1)\n",
    "\n",
    "try:\n",
    "    cursor.execute(\"USE {}\".format(DB_NAME))\n",
    "    print (\"DB exists\")\n",
    "except mysql.connector.Error as err:\n",
    "    print(\"Database {} does not exists.\".format(DB_NAME))\n",
    "    if err.errno == errorcode.ER_BAD_DB_ERROR:\n",
    "        create_database(cursor)\n",
    "        print(\"Database {} created successfully.\".format(DB_NAME))\n",
    "        cnx.database = DB_NAME\n",
    "    else:\n",
    "        print(err)\n",
    "        exit(1)"
   ]
  },
  {
   "cell_type": "code",
   "execution_count": 4,
   "metadata": {},
   "outputs": [],
   "source": [
    "TABLES = {}"
   ]
  },
  {
   "cell_type": "markdown",
   "metadata": {},
   "source": [
    "#### Create MotionPicture Table"
   ]
  },
  {
   "cell_type": "code",
   "execution_count": 102,
   "metadata": {},
   "outputs": [
    {
     "name": "stdout",
     "output_type": "stream",
     "text": [
      "Creating table MotionPicture: already exists.\n"
     ]
    }
   ],
   "source": [
    "TABLES['MotionPicture'] = (\n",
    "    \"\"\"\n",
    "CREATE TABLE `MotionPicture` (\n",
    "  `mpId` INT NOT NULL PRIMARY KEY,\n",
    "  `titleType` VARCHAR(300),\n",
    "  `primaryTitle` VARCHAR(300),\n",
    "  `isAdult` Boolean,\n",
    "  `startYear` INT,\n",
    "  `endYear` INT,\n",
    "  `runtimeMinutes` INT,\n",
    "  `crewList` VARCHAR(400)\n",
    ")\n",
    "    \"\"\"\n",
    "    )\n",
    "\n",
    "#create table\n",
    "table_name='MotionPicture'\n",
    "table_description = TABLES[table_name]\n",
    "try:\n",
    "    print(\"Creating table {}: \".format(table_name), end='')\n",
    "    cursor.execute(table_description)\n",
    "except mysql.connector.Error as err:\n",
    "    if err.errno == errorcode.ER_TABLE_EXISTS_ERROR:\n",
    "        print(\"already exists.\")\n",
    "    else:\n",
    "        print(err.msg)\n",
    "else:\n",
    "    print(\"OK\")\n",
    "        \n",
    "        \n",
    "# insert data into MotionPitcure table\n",
    "add_MotionPitcure = (\"\"\"INSERT INTO MotionPicture \n",
    "(mpId, titleType,primaryTitle,isAdult,startYear,endYear,runtimeMinutes,crewList) \n",
    "VALUES (%s, %s,%s, %s,%s, %s,%s,%s)\n",
    "\"\"\")\n",
    "\n",
    "'''\n",
    "Since some mpIds in the MotionPitcure table \n",
    "are not referenced in Episode, Rating, Genre, Crew,\n",
    "we are keeping track of those Ids while creating the \n",
    "tables which reference mpId as FOREIGN KEY to avoid conflicts.\n",
    "'''\n",
    "ignoreMPID=[]\n",
    "with open(\"FinalTables/MotionPitcure.csv\", 'r') as csv_data:\n",
    "    for idx,row in enumerate(csv_data):\n",
    "        if idx==0: continue #skip header\n",
    "        data=row.strip().split(',')\n",
    "        crewInfo=data[-1]\n",
    "        try:\n",
    "            cursor.execute(add_MotionPitcure,(data[0],data[1],data[2],data[3],data[4],data[5],data[6],crewInfo))\n",
    "        except mysql.connector.Error as err:\n",
    "            if \"Duplicate entry\" in str(err): continue\n",
    "            if \"Out of range value for column 'isAdult' at row\" in str(err) or \"Data too long for column 'primaryTitle'\" in str(err) :\n",
    "                ignoreMPID.append(data[0])\n",
    "                continue\n",
    "            print (err)\n",
    "            break\n",
    "cnx.commit()"
   ]
  },
  {
   "cell_type": "code",
   "execution_count": 50,
   "metadata": {},
   "outputs": [
    {
     "data": {
      "text/plain": [
       "(7316894,)"
      ]
     },
     "execution_count": 50,
     "metadata": {},
     "output_type": "execute_result"
    }
   ],
   "source": [
    "# Get number of records in MotionPitcure table\n",
    "cursor.execute(\"select count(*) from MotionPicture\")\n",
    "cursor.fetchone() #total counts in DB"
   ]
  },
  {
   "cell_type": "markdown",
   "metadata": {},
   "source": [
    "#### Create Episode table"
   ]
  },
  {
   "cell_type": "code",
   "execution_count": 11,
   "metadata": {},
   "outputs": [
    {
     "name": "stdout",
     "output_type": "stream",
     "text": [
      "Creating table Episode: already exists.\n"
     ]
    }
   ],
   "source": [
    "TABLES['Episode'] = (\n",
    "    \"\"\"\n",
    "CREATE TABLE `Episode` (\n",
    "  `episodeId` INT NOT NULL PRIMARY KEY,\n",
    "  `seasonNumber` INT,\n",
    "  `episodeNumber` INT,\n",
    "  `mpId` INT,\n",
    "  FOREIGN KEY(mpId) REFERENCES MotionPicture(mpId)\n",
    ")\n",
    "    \"\"\"\n",
    "    )\n",
    "table_name='Episode'\n",
    "table_description = TABLES[table_name]\n",
    "try:\n",
    "    print(\"Creating table {}: \".format(table_name), end='')\n",
    "    cursor.execute(table_description)\n",
    "except mysql.connector.Error as err:\n",
    "    if err.errno == errorcode.ER_TABLE_EXISTS_ERROR:\n",
    "        print(\"already exists.\")\n",
    "    else:\n",
    "        print(err.msg)\n",
    "else:\n",
    "    print(\"OK\")\n",
    "        \n",
    "        \n",
    "add_Episode = (\"\"\"INSERT INTO Episode \n",
    "(episodeId, seasonNumber,episodeNumber,mpId) \n",
    "VALUES (%s, %s,%s,%s)\n",
    "\"\"\")\n",
    "\n",
    "'''\n",
    "Since some mpIds in the MotionPitcure table \n",
    "are not referenced in Episode we are keeping \n",
    "track of those Ids while creating the \n",
    "tables which reference mpId as FOREIGN KEY to avoid conflicts.\n",
    "'''\n",
    "with open(\"FinalTables/Episode.csv\", 'r') as csv_data:\n",
    "    for idx,row in enumerate(csv_data):\n",
    "        if idx==0: continue #skip header\n",
    "        data=row.strip().split(',')\n",
    "        if data[3] in ignoreMPID: continue\n",
    "        try:\n",
    "            cursor.execute(add_Episode,(data[0],data[1],data[2],data[3]))\n",
    "        except mysql.connector.Error as err:\n",
    "            if \"Duplicate entry\" in str(err): continue\n",
    "            if  \"Cannot add or update a child row: a foreign key constraint fails\" in str(err): continue\n",
    "            print (err)\n",
    "            break\n",
    "cnx.commit()\n"
   ]
  },
  {
   "cell_type": "code",
   "execution_count": 49,
   "metadata": {},
   "outputs": [
    {
     "data": {
      "text/plain": [
       "(5275338,)"
      ]
     },
     "execution_count": 49,
     "metadata": {},
     "output_type": "execute_result"
    }
   ],
   "source": [
    "cursor.execute(\"select count(*) from Episode\")\n",
    "cursor.fetchone() #total counts in DB"
   ]
  },
  {
   "cell_type": "markdown",
   "metadata": {},
   "source": [
    "#### Create Rating Table"
   ]
  },
  {
   "cell_type": "code",
   "execution_count": 43,
   "metadata": {},
   "outputs": [
    {
     "name": "stdout",
     "output_type": "stream",
     "text": [
      "Creating table Rating: already exists.\n"
     ]
    }
   ],
   "source": [
    "TABLES['Rating'] = (\n",
    "    \"\"\"\n",
    "CREATE TABLE `Rating` (\n",
    "`ratingId` INT NOT NULL PRIMARY KEY,\n",
    "`averageRating` FLOAT,\n",
    "`numVotes` INT,\n",
    "`mpId` INT,\n",
    "FOREIGN KEY(mpId) REFERENCES MotionPicture(mpId)\n",
    ")\n",
    "    \"\"\"\n",
    ")\n",
    "\n",
    "table_name='Rating'\n",
    "table_description = TABLES[table_name]\n",
    "try:\n",
    "    print(\"Creating table {}: \".format(table_name), end='')\n",
    "    cursor.execute(table_description)\n",
    "except mysql.connector.Error as err:\n",
    "    if err.errno == errorcode.ER_TABLE_EXISTS_ERROR:\n",
    "        print(\"already exists.\")\n",
    "    else:\n",
    "        print(err.msg)\n",
    "else:\n",
    "    print(\"OK\")\n",
    "    \n",
    "    \n",
    "add_rating = (\"\"\"INSERT INTO rating \n",
    "(ratingId, averageRating,numVotes,mpId) \n",
    "VALUES (%s, %s,%s,%s)\n",
    "\"\"\")\n",
    "with open(\"FinalTables/Rating.csv\", 'r') as csv_data:\n",
    "    for idx,row in enumerate(csv_data):\n",
    "        if idx==0: continue\n",
    "        data=row.strip().split(',')\n",
    "        if data[3] in ignoreMPID: continue\n",
    "        try:\n",
    "            cursor.execute(add_rating,(data[0],data[1],data[2],data[3]))\n",
    "        except mysql.connector.Error as err:\n",
    "            if \"Duplicate entry\" in str(err): continue\n",
    "            print (err)\n",
    "cnx.commit()"
   ]
  },
  {
   "cell_type": "code",
   "execution_count": 47,
   "metadata": {},
   "outputs": [
    {
     "data": {
      "text/plain": [
       "(1088151,)"
      ]
     },
     "execution_count": 47,
     "metadata": {},
     "output_type": "execute_result"
    }
   ],
   "source": [
    "cursor.execute(\"select count(*) from rating\")\n",
    "cursor.fetchone() #total counts in DB"
   ]
  },
  {
   "cell_type": "markdown",
   "metadata": {},
   "source": [
    "#### Create Genre Table"
   ]
  },
  {
   "cell_type": "code",
   "execution_count": 46,
   "metadata": {},
   "outputs": [
    {
     "name": "stdout",
     "output_type": "stream",
     "text": [
      "Creating table genre: OK\n"
     ]
    }
   ],
   "source": [
    "TABLES['genre'] = (\n",
    "\"\"\"\n",
    "CREATE TABLE `Genre` (\n",
    "  `genreId` INT NOT NULL PRIMARY KEY,\n",
    "  `name` VARCHAR(300)\n",
    ")\n",
    "\"\"\")\n",
    "\n",
    "\n",
    "table_name='genre'\n",
    "table_description = TABLES[table_name]\n",
    "try:\n",
    "    print(\"Creating table {}: \".format(table_name), end='')\n",
    "    cursor.execute(table_description)\n",
    "except mysql.connector.Error as err:\n",
    "    if err.errno == errorcode.ER_TABLE_EXISTS_ERROR:\n",
    "        print(\"already exists.\")\n",
    "    else:\n",
    "        print(err.msg)\n",
    "else:\n",
    "    print(\"OK\")#### Table Genre\n",
    "\n",
    "\n",
    "add_genre = (\"\"\"INSERT INTO genre \n",
    "(genreId, name) \n",
    "VALUES (%s, %s)\n",
    "\"\"\")\n",
    "with open(\"FinalTables/Genre.csv\", 'r') as csv_data:\n",
    "    for idx,row in enumerate(csv_data):\n",
    "        if idx==0: continue #skip header\n",
    "        data=row.strip().split(',')\n",
    "        try:\n",
    "            cursor.execute(add_genre,(data[0],data[1]))\n",
    "        except mysql.connector.Error as err:\n",
    "            print (err)\n",
    "cnx.commit()"
   ]
  },
  {
   "cell_type": "code",
   "execution_count": 48,
   "metadata": {},
   "outputs": [
    {
     "data": {
      "text/plain": [
       "(28,)"
      ]
     },
     "execution_count": 48,
     "metadata": {},
     "output_type": "execute_result"
    }
   ],
   "source": [
    "cursor.execute(\"select count(*) from genre\")\n",
    "cursor.fetchone()  #total counts in DB"
   ]
  },
  {
   "cell_type": "markdown",
   "metadata": {},
   "source": [
    "#### Create Role Table"
   ]
  },
  {
   "cell_type": "code",
   "execution_count": 52,
   "metadata": {},
   "outputs": [
    {
     "name": "stdout",
     "output_type": "stream",
     "text": [
      "Creating table Role: already exists.\n"
     ]
    }
   ],
   "source": [
    "TABLES['Role'] = (\n",
    "\"\"\"\n",
    "CREATE TABLE `Role` (\n",
    "  `roleId` INT NOT NULL PRIMARY KEY,\n",
    "  `name` VARCHAR(500)\n",
    ")\n",
    "\"\"\")\n",
    "\n",
    "table_name='Role'\n",
    "table_description = TABLES[table_name]\n",
    "try:\n",
    "    print(\"Creating table {}: \".format(table_name), end='')\n",
    "    cursor.execute(table_description)\n",
    "except mysql.connector.Error as err:\n",
    "    if err.errno == errorcode.ER_TABLE_EXISTS_ERROR:\n",
    "        print(\"already exists.\")\n",
    "    else:\n",
    "        print(err.msg)\n",
    "else:\n",
    "    print(\"OK\")#### Table Genre\n",
    "\n",
    "    \n",
    "add_Role = (\"\"\"INSERT INTO Role \n",
    "(roleId, name) \n",
    "VALUES (%s, %s)\n",
    "\"\"\")\n",
    "with open(\"FinalTables/Role.csv\", 'r') as csv_data:\n",
    "    for idx,row in enumerate(csv_data):\n",
    "        if idx==0: continue #skip header\n",
    "        data=row.strip().split(',')\n",
    "        try:\n",
    "            cursor.execute(add_Role,(data[0],data[1]))\n",
    "        except mysql.connector.Error as err:\n",
    "            print (err)\n",
    "cnx.commit()"
   ]
  },
  {
   "cell_type": "code",
   "execution_count": 53,
   "metadata": {},
   "outputs": [
    {
     "data": {
      "text/plain": [
       "(43,)"
      ]
     },
     "execution_count": 53,
     "metadata": {},
     "output_type": "execute_result"
    }
   ],
   "source": [
    "cursor.execute(\"select count(*) from Role\")\n",
    "cursor.fetchone() #total counts in DB"
   ]
  },
  {
   "cell_type": "markdown",
   "metadata": {},
   "source": [
    "####  Create Crew Table"
   ]
  },
  {
   "cell_type": "code",
   "execution_count": 63,
   "metadata": {},
   "outputs": [
    {
     "name": "stdout",
     "output_type": "stream",
     "text": [
      "Creating table Crew: already exists.\n"
     ]
    }
   ],
   "source": [
    "TABLES['Crew'] = (\n",
    "\"\"\"\n",
    "CREATE TABLE `Crew` (\n",
    "  `crewId` INT NOT NULL PRIMARY KEY,\n",
    "  `personName` VARCHAR(500),\n",
    "  `birthYear` INT,\n",
    "  `deathYear` INT,\n",
    "  `status` INT,\n",
    "  `age` INT,\n",
    "  `numMovies` INT\n",
    ")\n",
    "\"\"\")\n",
    "\n",
    "table_name='Crew'\n",
    "table_description = TABLES[table_name]\n",
    "try:\n",
    "    print(\"Creating table {}: \".format(table_name), end='')\n",
    "    cursor.execute(table_description)\n",
    "except mysql.connector.Error as err:\n",
    "    if err.errno == errorcode.ER_TABLE_EXISTS_ERROR:\n",
    "        print(\"already exists.\")\n",
    "    else:\n",
    "        print(err.msg)\n",
    "else:\n",
    "    print(\"OK\")#### Table Genre\n",
    "    \n",
    "\n",
    "add_Crew = (\"\"\"INSERT INTO Crew \n",
    "(crewId, personName,birthYear,deathYear,status) \n",
    "VALUES (%s, %s,%s,%s,%s)\n",
    "\"\"\")\n",
    "with open(\"FinalTables/Crew.csv\", 'r') as csv_data:\n",
    "    for idx,row in enumerate(csv_data):\n",
    "        if idx==0: continue #skip header\n",
    "        data=row.strip().split(',')\n",
    "        try:\n",
    "            cursor.execute(add_Crew,(data[0],data[1],data[2],data[3],data[4]))\n",
    "        except mysql.connector.Error as err:\n",
    "            if \"Duplicate entry\" in str(err): continue\n",
    "            print (err)\n",
    "            break\n",
    "cnx.commit()"
   ]
  },
  {
   "cell_type": "code",
   "execution_count": 64,
   "metadata": {},
   "outputs": [
    {
     "data": {
      "text/plain": [
       "(10486504,)"
      ]
     },
     "execution_count": 64,
     "metadata": {},
     "output_type": "execute_result"
    }
   ],
   "source": [
    "cursor.execute(\"select count(*) from Crew\")\n",
    "cursor.fetchone() #total counts in DB"
   ]
  },
  {
   "cell_type": "markdown",
   "metadata": {},
   "source": [
    "#### Create RoleCrew"
   ]
  },
  {
   "cell_type": "code",
   "execution_count": 69,
   "metadata": {},
   "outputs": [
    {
     "name": "stdout",
     "output_type": "stream",
     "text": [
      "Creating table RoleCrew: already exists.\n"
     ]
    }
   ],
   "source": [
    "TABLES['RoleCrew'] = (\n",
    "\"\"\"\n",
    "CREATE TABLE `RoleCrew` (\n",
    "  `rcId` INT NOT NULL PRIMARY KEY AUTO_INCREMENT,\n",
    "  `crewId` INT,\n",
    "  `roleId` INT,\n",
    "  FOREIGN KEY(crewId) REFERENCES Crew(crewId),\n",
    "  FOREIGN KEY(roleId) REFERENCES Role(roleId)\n",
    ")\n",
    "\n",
    "\"\"\")\n",
    "\n",
    "\n",
    "table_name='RoleCrew'\n",
    "table_description = TABLES[table_name]\n",
    "try:\n",
    "    print(\"Creating table {}: \".format(table_name), end='')\n",
    "    cursor.execute(table_description)\n",
    "except mysql.connector.Error as err:\n",
    "    if err.errno == errorcode.ER_TABLE_EXISTS_ERROR:\n",
    "        print(\"already exists.\")\n",
    "    else:\n",
    "        print(err.msg)\n",
    "else:\n",
    "    print(\"OK\")#### Table Genre\n",
    "    \n",
    "\n",
    "ignorecrewId=set()\n",
    "add_RoleCrew = (\"\"\"INSERT INTO RoleCrew \n",
    "(rcId, crewId,roleId) \n",
    "VALUES (%s, %s,%s)\n",
    "\"\"\")\n",
    "with open(\"FinalTables/RoleCrew.csv\", 'r') as csv_data:\n",
    "    for idx,row in enumerate(csv_data):\n",
    "        if idx==0: continue #skip header\n",
    "        data=row.strip().split(',')\n",
    "        try:\n",
    "            cursor.execute(add_RoleCrew,(data[0],data[1],data[2]))\n",
    "        except mysql.connector.Error as err:\n",
    "            if \"Duplicate entry\" in str(err): continue\n",
    "            if \"Cannot add or update a child row: a foreign key constraint fails (`imdb`.`rolecrew`, CONSTRAINT `rolecrew_ibfk_1` FOREIGN KEY (`crewId`) REFERENCES `crew` (`crewId`))\" in str(err): \n",
    "                ignorecrewId.add(data[1])\n",
    "                continue\n",
    "            print (err)\n",
    "            break\n",
    "cnx.commit()"
   ]
  },
  {
   "cell_type": "code",
   "execution_count": 70,
   "metadata": {},
   "outputs": [
    {
     "data": {
      "text/plain": [
       "(41775514,)"
      ]
     },
     "execution_count": 70,
     "metadata": {},
     "output_type": "execute_result"
    }
   ],
   "source": [
    "cursor.execute(\"select count(*) from RoleCrew\")\n",
    "cursor.fetchone() #total counts in DB"
   ]
  },
  {
   "cell_type": "markdown",
   "metadata": {},
   "source": [
    "#### Create MotionPictureCrew"
   ]
  },
  {
   "cell_type": "code",
   "execution_count": 88,
   "metadata": {},
   "outputs": [
    {
     "name": "stdout",
     "output_type": "stream",
     "text": [
      "Creating table MotionPictureCrew: already exists.\n",
      "1206 (HY000): The total number of locks exceeds the lock table size\n"
     ]
    }
   ],
   "source": [
    "TABLES['MotionPictureCrew'] = (\n",
    "\"\"\"\n",
    "CREATE TABLE `MotionPictureCrew` (\n",
    "  `mpcId` INT NOT NULL PRIMARY KEY AUTO_INCREMENT,\n",
    "  `mpId` INT,\n",
    "  `crewId` INT,\n",
    "  FOREIGN KEY(crewId) REFERENCES Crew(crewId),\n",
    "  FOREIGN KEY(mpId) REFERENCES MotionPicture(mpId)\n",
    ")\n",
    "\"\"\")\n",
    "\n",
    "\n",
    "table_name='MotionPictureCrew'\n",
    "table_description = TABLES[table_name]\n",
    "try:\n",
    "    print(\"Creating table {}: \".format(table_name), end='')\n",
    "    cursor.execute(table_description)\n",
    "except mysql.connector.Error as err:\n",
    "    if err.errno == errorcode.ER_TABLE_EXISTS_ERROR:\n",
    "        print(\"already exists.\")\n",
    "    else:\n",
    "        print(err.msg)\n",
    "else:\n",
    "    print(\"OK\")#### Table Genre\n",
    "    \n",
    "\n",
    "ignorempcrewId=set()\n",
    "ignorempcrewId2=set()\n",
    "add_MotionPictureCrew = (\"\"\"INSERT INTO MotionPictureCrew \n",
    "(mpcId, mpId,crewId) \n",
    "VALUES (%s, %s,%s)\n",
    "\"\"\")\n",
    "\n",
    "with open(\"FinalTables/MotionPitcureCrew.csv\", 'r') as csv_data:\n",
    "    for idx,row in enumerate(csv_data):\n",
    "        if idx==0: continue #skip header\n",
    "        data=row.strip().split(',')\n",
    "        if data[1] in ignoreMPID: continue\n",
    "        try:\n",
    "            cursor.execute(add_MotionPictureCrew,(data[0],data[1],data[2]))\n",
    "        except mysql.connector.Error as err:\n",
    "            if \"Duplicate entry\" in str(err): continue\n",
    "            if \"Cannot add or update a child row: a foreign key constraint fails (`imdb`.`motionpicturecrew`, CONSTRAINT `motionpicturecrew_ibfk_1` FOREIGN KEY (`crewId`) REFERENCES `crew` (`crewId`))\" in str(err): \n",
    "                ignorempcrewId.add(data[2])\n",
    "                continue\n",
    "            if \"Cannot add or update a child row: a foreign key constraint fails (`imdb`.`motionpicturecrew`, CONSTRAINT `motionpicturecrew_ibfk_2` FOREIGN KEY (`mpId`) REFERENCES `motionpicture` (`mpId`))\" in str(err): \n",
    "                ignorempcrewId2.add(data[2])\n",
    "                continue\n",
    "            print (err)\n",
    "            break\n",
    "cnx.commit()\n"
   ]
  },
  {
   "cell_type": "markdown",
   "metadata": {},
   "source": [
    "### P.S: Due to the above error MotionPitcureCrew could not be loaded fully. Hence Views from Q8 could not be executed."
   ]
  },
  {
   "cell_type": "markdown",
   "metadata": {},
   "source": [
    "#### Create Title"
   ]
  },
  {
   "cell_type": "code",
   "execution_count": 95,
   "metadata": {},
   "outputs": [
    {
     "name": "stdout",
     "output_type": "stream",
     "text": [
      "Creating table Title: already exists.\n"
     ]
    }
   ],
   "source": [
    "TABLES['Title'] = (\n",
    "\"\"\"\n",
    "CREATE TABLE `Title` (\n",
    "  `titleId` INT NOT NULL PRIMARY KEY,\n",
    "  `name` VARCHAR(500),\n",
    "  `region` VARCHAR(20),\n",
    "  `language` VARCHAR(20),\n",
    "  `isOriginalTitle` Boolean,\n",
    "  `mpId` INT,\n",
    "  FOREIGN KEY(mpId) REFERENCES MotionPicture(mpId)\n",
    ")\n",
    "\"\"\")\n",
    "\n",
    "\n",
    "table_name='Title'\n",
    "table_description = TABLES[table_name]\n",
    "try:\n",
    "    print(\"Creating table {}: \".format(table_name), end='')\n",
    "    cursor.execute(table_description)\n",
    "except mysql.connector.Error as err:\n",
    "    if err.errno == errorcode.ER_TABLE_EXISTS_ERROR:\n",
    "        print(\"already exists.\")\n",
    "    else:\n",
    "        print(err.msg)\n",
    "else:\n",
    "    print(\"OK\")#### Table Genre\n",
    "\n",
    "\n",
    "\n",
    "add_Title = (\"\"\"INSERT INTO Title \n",
    "(titleId, name,region,language,isOriginalTitle,mpId) \n",
    "VALUES (%s, %s,%s, %s,%s, %s)\n",
    "\"\"\")\n",
    "run=10\n",
    "with open(\"FinalTables/Title.csv\", 'r') as csv_data:\n",
    "    for idx,row in enumerate(csv_data):\n",
    "        if idx==0: continue #skip header\n",
    "        data=row.strip().split(',')\n",
    "        if data[5] in ignoreMPID: continue\n",
    "        try:\n",
    "            cursor.execute(add_Title,(data[0],data[1],data[2],data[3],data[4],data[5]))\n",
    "        except mysql.connector.Error as err:\n",
    "            if \"Duplicate entry\" in str(err): continue\n",
    "            if \"Incorrect integer value: '\\\\N' for column 'isOriginalTitle' at row 1\" in str(err): continue\n",
    "            print (err)\n",
    "            break\n",
    "        run-=1\n",
    "        if run==0: break\n",
    "cnx.commit()"
   ]
  },
  {
   "cell_type": "code",
   "execution_count": 96,
   "metadata": {},
   "outputs": [
    {
     "data": {
      "text/plain": [
       "(141172,)"
      ]
     },
     "execution_count": 96,
     "metadata": {},
     "output_type": "execute_result"
    }
   ],
   "source": [
    "cursor.execute(\"select count(*) from Title\")\n",
    "cursor.fetchone() #total counts in DB"
   ]
  },
  {
   "cell_type": "markdown",
   "metadata": {},
   "source": [
    "#### Create MotionPictureGenre"
   ]
  },
  {
   "cell_type": "code",
   "execution_count": 99,
   "metadata": {},
   "outputs": [
    {
     "name": "stdout",
     "output_type": "stream",
     "text": [
      "Creating table MotionPictureGenre: already exists.\n"
     ]
    }
   ],
   "source": [
    "TABLES['MotionPictureGenre'] = (\n",
    "\"\"\"\n",
    "CREATE TABLE `MotionPictureGenre` (\n",
    "  `mpgId` INT NOT NULL PRIMARY KEY AUTO_INCREMENT,\n",
    "  `mpId` INT,\n",
    "  `genreId` INT,\n",
    "  FOREIGN KEY(genreId) REFERENCES genre(genreId),\n",
    "  FOREIGN KEY(mpId) REFERENCES MotionPicture(mpId)\n",
    ")\n",
    "\"\"\")\n",
    "\n",
    "\n",
    "table_name='MotionPictureGenre'\n",
    "table_description = TABLES[table_name]\n",
    "try:\n",
    "    print(\"Creating table {}: \".format(table_name), end='')\n",
    "    cursor.execute(table_description)\n",
    "except mysql.connector.Error as err:\n",
    "    if err.errno == errorcode.ER_TABLE_EXISTS_ERROR:\n",
    "        print(\"already exists.\")\n",
    "    else:\n",
    "        print(err.msg)\n",
    "else:\n",
    "    print(\"OK\")#### Table Genre\n",
    "    \n",
    "    \n",
    "add_MotionPictureGenre = (\"\"\"INSERT INTO MotionPictureGenre \n",
    "(mpgId, mpId,genreId) \n",
    "VALUES (%s, %s,%s)\n",
    "\"\"\")\n",
    "run=10000\n",
    "with open(\"FinalTables/MotionPitcureGenre.csv\", 'r') as csv_data:\n",
    "    for idx,row in enumerate(csv_data):\n",
    "        if idx==0: continue #skip header\n",
    "        data=row.strip().split(',')\n",
    "        if data[1] in ignoreMPID: continue\n",
    "        try:\n",
    "            cursor.execute(add_MotionPictureGenre,(data[0],data[1],data[2]))\n",
    "        except mysql.connector.Error as err:\n",
    "            if \"Duplicate entry\" in str(err): continue\n",
    "            if \"Cannot add or update a child row: a foreign key constraint fails (`imdb`.`motionpicturegenre`, CONSTRAINT `motionpicturegenre_ibfk_1` FOREIGN KEY (`genreId`) REFERENCES `genre` (`genreId`))\" in str(err): continue\n",
    "            print (err)\n",
    "            break\n",
    "        run-=1\n",
    "        if run==0: break\n",
    "cnx.commit()"
   ]
  },
  {
   "cell_type": "code",
   "execution_count": null,
   "metadata": {},
   "outputs": [],
   "source": [
    "cursor.execute(\"select count(*) from MotionPictureGenre\")\n",
    "cursor.fetchone() #total counts in DB"
   ]
  },
  {
   "cell_type": "markdown",
   "metadata": {},
   "source": [
    "### Referential Integrity Checks"
   ]
  },
  {
   "cell_type": "markdown",
   "metadata": {},
   "source": [
    "To maintain referential integrity, it is required that a foreign key must have a matching primary key. So, to maintain connectivity between two tables this constraint is specified. To avoid having records which do not point to a table we need to enforce referential integrity that is where the PK is located. When referential integrity is enforced it is important that PK and FK have same data types and come from the same domain. So, while loading it is checked whether PK and FK are from same domain, for join to take place. So before loading we must make sure that the FK for a table is present in the Table for which it is PK. We can also create index to improve performance of checking referential integrity. We can create Indexes for Foreign keys to improve the performance of checks on parent table."
   ]
  },
  {
   "cell_type": "markdown",
   "metadata": {},
   "source": [
    "### Q5 UPDATE statements"
   ]
  },
  {
   "cell_type": "markdown",
   "metadata": {},
   "source": [
    "Here, we have added status (dead/alive). However, according to your instructions in Recitation, we have not used it for querying and updating tables (\"age\") for creating a view in Q7 "
   ]
  },
  {
   "cell_type": "markdown",
   "metadata": {},
   "source": [
    "#### Crew table update for age and number of movies"
   ]
  },
  {
   "cell_type": "code",
   "execution_count": 101,
   "metadata": {},
   "outputs": [
    {
     "data": {
      "text/plain": [
       "[('crewId', b'int', 'NO', 'PRI', None, ''),\n",
       " ('personName', b'varchar(500)', 'YES', '', None, ''),\n",
       " ('birthYear', b'int', 'YES', '', None, ''),\n",
       " ('deathYear', b'int', 'YES', '', None, ''),\n",
       " ('status', b'int', 'YES', '', None, ''),\n",
       " ('age', b'int', 'YES', '', None, ''),\n",
       " ('numMovies', b'int', 'YES', '', None, '')]"
      ]
     },
     "execution_count": 101,
     "metadata": {},
     "output_type": "execute_result"
    }
   ],
   "source": [
    "#query=(\"\"\"DESCRIBE Crew\"\"\")\n",
    "query=(\"\"\"SHOW COLUMNS FROM Crew\"\"\")\n",
    "cursor.execute(query)\n",
    "cursor.fetchall()"
   ]
  },
  {
   "cell_type": "markdown",
   "metadata": {},
   "source": [
    "#### Crew Table before update"
   ]
  },
  {
   "cell_type": "code",
   "execution_count": 105,
   "metadata": {},
   "outputs": [
    {
     "data": {
      "text/plain": [
       "[(1, 'Fred Astaire', 1899, 1987, 0, 0, None),\n",
       " (2, 'Lauren Bacall', 1924, 2014, 0, 0, None),\n",
       " (3, 'Brigitte Bardot', 1934, 0, 1, 0, None),\n",
       " (4, 'John Belushi', 1949, 1982, 0, 0, None),\n",
       " (5, 'Ingmar Bergman', 1918, 2007, 0, 0, None),\n",
       " (6, 'Ingrid Bergman', 1915, 1982, 0, 0, None),\n",
       " (7, 'Humphrey Bogart', 1899, 1957, 0, 0, None),\n",
       " (8, 'Marlon Brando', 1924, 2004, 0, 0, None),\n",
       " (9, 'Richard Burton', 1925, 1984, 0, 0, None),\n",
       " (10, 'James Cagney', 1899, 1986, 0, 0, None)]"
      ]
     },
     "execution_count": 105,
     "metadata": {},
     "output_type": "execute_result"
    }
   ],
   "source": [
    "query=('''SELECT * from Crew LIMIT 10''')\n",
    "cursor.execute(query)\n",
    "cursor.fetchall()"
   ]
  },
  {
   "cell_type": "markdown",
   "metadata": {},
   "source": [
    "#### UPDATE age"
   ]
  },
  {
   "cell_type": "code",
   "execution_count": 106,
   "metadata": {},
   "outputs": [],
   "source": [
    "query=('''UPDATE Crew SET age = deathYear - birthYear\n",
    "where deathYear != 0''')\n",
    "cursor.execute(query)"
   ]
  },
  {
   "cell_type": "code",
   "execution_count": 107,
   "metadata": {},
   "outputs": [],
   "source": [
    "query=('''UPDATE crew SET age = 2020 - birthYear\n",
    "where deathYear = 0;''')\n",
    "cursor.execute(query)"
   ]
  },
  {
   "cell_type": "markdown",
   "metadata": {},
   "source": [
    "#### Crew Table after update"
   ]
  },
  {
   "cell_type": "code",
   "execution_count": 108,
   "metadata": {},
   "outputs": [
    {
     "data": {
      "text/plain": [
       "[(1, 'Fred Astaire', 1899, 1987, 0, 88, None),\n",
       " (2, 'Lauren Bacall', 1924, 2014, 0, 90, None),\n",
       " (3, 'Brigitte Bardot', 1934, 0, 1, 86, None),\n",
       " (4, 'John Belushi', 1949, 1982, 0, 33, None),\n",
       " (5, 'Ingmar Bergman', 1918, 2007, 0, 89, None),\n",
       " (6, 'Ingrid Bergman', 1915, 1982, 0, 67, None),\n",
       " (7, 'Humphrey Bogart', 1899, 1957, 0, 58, None),\n",
       " (8, 'Marlon Brando', 1924, 2004, 0, 80, None),\n",
       " (9, 'Richard Burton', 1925, 1984, 0, 59, None),\n",
       " (10, 'James Cagney', 1899, 1986, 0, 87, None)]"
      ]
     },
     "execution_count": 108,
     "metadata": {},
     "output_type": "execute_result"
    }
   ],
   "source": [
    "query=('''SELECT * from Crew LIMIT 10''')\n",
    "cursor.execute(query)\n",
    "cursor.fetchall()"
   ]
  },
  {
   "cell_type": "markdown",
   "metadata": {},
   "source": [
    "#### Update numMovies in Crew table"
   ]
  },
  {
   "cell_type": "markdown",
   "metadata": {},
   "source": [
    "Updation using python's cursor is taking a lot of time and CPU resources. \n",
    "That is why we are adding the output on MySQL Workbench using dummy data."
   ]
  },
  {
   "cell_type": "code",
   "execution_count": null,
   "metadata": {},
   "outputs": [],
   "source": [
    "query=('''UPDATE CREW C\n",
    "Set numMovies = (select count(*) from motionpicturecrew mpc group by mpc.crewId\n",
    "                having mpc.crewId = C.crewId);''')\n",
    "cursor.execute(query)"
   ]
  },
  {
   "cell_type": "markdown",
   "metadata": {},
   "source": [
    "<img src=\"images/Update_statement.png\">"
   ]
  },
  {
   "cell_type": "code",
   "execution_count": 6,
   "metadata": {},
   "outputs": [
    {
     "data": {
      "text/plain": [
       "[(1, 'Fred Astaire', 1899, 1987, 0, None, None),\n",
       " (2, 'Lauren Bacall', 1924, 2014, 0, None, None),\n",
       " (3, 'Brigitte Bardot', 1934, 0, 1, None, None),\n",
       " (4, 'John Belushi', 1949, 1982, 0, None, None),\n",
       " (5, 'Ingmar Bergman', 1918, 2007, 0, None, None),\n",
       " (6, 'Ingrid Bergman', 1915, 1982, 0, None, None),\n",
       " (7, 'Humphrey Bogart', 1899, 1957, 0, None, None),\n",
       " (8, 'Marlon Brando', 1924, 2004, 0, None, None),\n",
       " (9, 'Richard Burton', 1925, 1984, 0, None, None),\n",
       " (10, 'James Cagney', 1899, 1986, 0, None, None)]"
      ]
     },
     "execution_count": 6,
     "metadata": {},
     "output_type": "execute_result"
    }
   ],
   "source": [
    "query=('''SELECT * from Crew LIMIT 10''')\n",
    "cursor.execute(query)\n",
    "cursor.fetchall()"
   ]
  },
  {
   "cell_type": "code",
   "execution_count": 4,
   "metadata": {},
   "outputs": [
    {
     "data": {
      "text/plain": [
       "[(1, 1, 1588970),\n",
       " (2, 1, 5690),\n",
       " (3, 1, 374658),\n",
       " (4, 2, 721526),\n",
       " (5, 2, 1335271),\n",
       " (6, 3, 721526),\n",
       " (7, 3, 5442194),\n",
       " (8, 3, 1335271),\n",
       " (9, 3, 5442200),\n",
       " (10, 4, 721526)]"
      ]
     },
     "execution_count": 4,
     "metadata": {},
     "output_type": "execute_result"
    }
   ],
   "source": [
    "query=('''SELECT * from motionpicturecrew LIMIT 10''')\n",
    "cursor.execute(query)\n",
    "cursor.fetchall()"
   ]
  },
  {
   "cell_type": "markdown",
   "metadata": {},
   "source": [
    "### Q6 Triggers"
   ]
  },
  {
   "cell_type": "markdown",
   "metadata": {},
   "source": [
    "Triggers below set the age and number of movies for new update on CREW table. The outputs posted below are screenshots taken from another notebook which we have attached with the submission"
   ]
  },
  {
   "cell_type": "code",
   "execution_count": null,
   "metadata": {},
   "outputs": [],
   "source": [
    "query=('''\n",
    "CREATE TRIGGER `update_age_insert` \n",
    "BEFORE INSERT\n",
    "ON CREW FOR EACH ROW\n",
    "BEGIN\n",
    "IF NEW.deathYear != 0 THEN\n",
    "SET NEW.age = new.deathYear - new.birthYear;\n",
    "ELSEIF NEW.deathYear = 0 THEN\n",
    "SET NEW.age = 2020 - new.birthYear;\n",
    "END IF;\n",
    "END;\n",
    "''')\n",
    "cursor.execute(query)"
   ]
  },
  {
   "cell_type": "code",
   "execution_count": null,
   "metadata": {},
   "outputs": [],
   "source": [
    "query=('''CREATE TRIGGER `update_numovies_insert` \n",
    "AFTER INSERT\n",
    "ON motionpicturecrew FOR EACH ROW\n",
    "BEGIN\n",
    "UPDATE CREW C\n",
    "Set numMovies = (select count(*) from motionpicturecrew mpc\n",
    "                group by mpc.crewId\n",
    "                having mpc.crewId = C.crewId);\n",
    "END;\n",
    "''')\n",
    "cursor.execute(query)"
   ]
  },
  {
   "cell_type": "markdown",
   "metadata": {},
   "source": [
    "<img src=\"images/Trigger1.png\">"
   ]
  },
  {
   "cell_type": "markdown",
   "metadata": {},
   "source": [
    "#### Q7. View\n",
    "Name, age, actor, age, status(dead/alive) and number of movies they are known for. \n",
    "Due to the number of joins involved it is taking a long time to complete execution using Python. Hence, we are adding test on dummy data using MySQL Workbench."
   ]
  },
  {
   "cell_type": "code",
   "execution_count": null,
   "metadata": {},
   "outputs": [],
   "source": [
    "query=('''CREATE VIEW ACTOR_INFO AS\n",
    "SELECT personName,name as role, age, status, count(*) as top_movies from Crew c\n",
    "inner join RoleCrew rc on rc.rcId = c.crewId\n",
    "inner join Role r on r.roleId = rc.rcId\n",
    "inner join MotionPictureCrew mpc on mpc.mpcId = c.crewId\n",
    "inner join MotionPicture mp on mp.mpId = mpc.mpcId\n",
    "inner join rating rt on rt.mpId = mp.mpId\n",
    "where rt.averageRating > 6\n",
    "group by c.crewId\n",
    "having r.name = 'actress';''')\n",
    "cursor.execute(query)"
   ]
  },
  {
   "cell_type": "markdown",
   "metadata": {},
   "source": [
    "<img src=\"images/View.png\">"
   ]
  },
  {
   "cell_type": "markdown",
   "metadata": {},
   "source": [
    "#### Q8. Query that finds the number of seasons for each TV series."
   ]
  },
  {
   "cell_type": "code",
   "execution_count": null,
   "metadata": {},
   "outputs": [],
   "source": [
    "query=('''\n",
    "select primaryTitle, MAX(seasonNumber) from motionpicture mp\n",
    "inner join episode e on e.mpId = mp.mpId\n",
    "group by e.mpId;''')\n",
    "cursor.execute(query)\n"
   ]
  },
  {
   "cell_type": "markdown",
   "metadata": {},
   "source": [
    "<img src=\"images/Q8ans.png\">"
   ]
  },
  {
   "cell_type": "markdown",
   "metadata": {},
   "source": [
    "<img src=\"images/freq_plot.png\">"
   ]
  },
  {
   "cell_type": "markdown",
   "metadata": {},
   "source": [
    "#### Q9. addActor() \n",
    "Here we send the parameters such as mpId, Crew table's attributes and roleId (corresponding to \"actor\") to a python function \"addActor\" to execute INSERT statements in Crew, MotionPitcure and RoleCrew using Python's cursor."
   ]
  },
  {
   "cell_type": "code",
   "execution_count": null,
   "metadata": {},
   "outputs": [],
   "source": [
    "# crew_attribs: (crewId, personName, birthYear, deathYear, status)\n",
    "def addActor(mpId, crewAttribs, roleId = 1):\n",
    "\n",
    "    query4crew = \"\"\"INSERT into Crew (crewId, personName, birthYear, deathYear, status) values (%s, %s, %s, %s, %s)\"\"\"\n",
    "\n",
    "    query4mpc = \"\"\"INSERT into MotionPictureCrew (mpId, crewId) values (%s, %s);\"\"\"\n",
    "\n",
    "    query4rc = \"\"\"INSERT into RoleCrew (roleId, crewId) values (%s, %s)\"\"\"\n",
    "\n",
    "    cursor.execute(query4crew, crewAttribs)\n",
    "    cnx.commit()\n",
    "    cursor.execute(query4mpc, (mpId, crewAttribs[0]))\n",
    "    cnx.commit()"
   ]
  },
  {
   "cell_type": "markdown",
   "metadata": {},
   "source": [
    "#### Q10. deleteActor()\n",
    "Deleting actor entry from the Crew table requires deletion of all the references from MotionPitcureCrew and RoleCrew. After this step we will remove the crewId reference from the Crew table."
   ]
  },
  {
   "cell_type": "code",
   "execution_count": null,
   "metadata": {},
   "outputs": [],
   "source": [
    "# crew_attribs: (crewId, personName, birthYear, deathYear, status)\n",
    "def deleteActor(crewId, roleId = 1):\n",
    "\n",
    "    query4mpc = \"\"\"DELETE FROM MotionPictureCrew WHERE crewId = %s;\"\"\"\n",
    "    \n",
    "    query4crew = \"\"\"DELETE FROM Crew WHERE crewId = %s;\"\"\"\n",
    "\n",
    "    query4rc = \"\"\"DELETE FROM RoleCrew WHERE crewId = %s and roleId = %s\"\"\"\n",
    "\n",
    "    cursor.execute(query4mpc, crewId)\n",
    "    cnx.commit()\n",
    "    cursor.execute(query4crew, crewId)\n",
    "    cnx.commit()\n",
    "    cursor.execute(query4crew, crewId, roleId)\n",
    "    cnx.commit()"
   ]
  },
  {
   "cell_type": "markdown",
   "metadata": {},
   "source": [
    "#### Q11. Name and ages of all actors and their movies having above average rating\n",
    "Here, we calculate average rating of all entries in Rating using AVG and then extract the names and ages of all actors and their movies having above average rating. The output has been obtained using MySQL Workbench using a dummy dataset."
   ]
  },
  {
   "cell_type": "code",
   "execution_count": null,
   "metadata": {},
   "outputs": [],
   "source": [
    "query = ('''\n",
    "SELECT personName,name as role, age, count(*) as top_movies from Crew c\n",
    "inner join RoleCrew rc on rc.rcId = c.crewId\n",
    "inner join Role r on r.roleId = rc.rcId\n",
    "inner join MotionPictureCrew mpc on mpc.mpcId = c.crewId\n",
    "inner join MotionPicture mp on mp.mpId = mpc.mpcId\n",
    "inner join rating rt on rt.mpId = mp.mpId\n",
    "where rt.averageRating > (select avg(averageRating) from rating) and c.nuMovies > 2\n",
    "group by c.crewId\n",
    "having r.name = 'actress' or r.name = 'actor';''')\n",
    "cursor.execute(query)\n",
    "cursor.fetchone()"
   ]
  },
  {
   "cell_type": "markdown",
   "metadata": {},
   "source": [
    "<img src=\"images/q11.png\">"
   ]
  },
  {
   "cell_type": "markdown",
   "metadata": {},
   "source": [
    "#### Q12. Indexing\n",
    "We have added indexes in the database to speed-up lookup."
   ]
  },
  {
   "cell_type": "code",
   "execution_count": 5,
   "metadata": {},
   "outputs": [],
   "source": [
    "import time"
   ]
  },
  {
   "cell_type": "code",
   "execution_count": null,
   "metadata": {},
   "outputs": [],
   "source": [
    "start=time.time()\n",
    "query=('''select * from crew c where c.personName = 'Fred Astaire';''')\n",
    "cursor.execute(query)\n",
    "cursor.fetchone()\n",
    "end=time.time()\n",
    "timeWOIndex=end-start\n",
    "print (\"Time taken without index :\",timeWOIndex)"
   ]
  },
  {
   "cell_type": "code",
   "execution_count": null,
   "metadata": {},
   "outputs": [],
   "source": [
    "query=('''CREATE UNIQUE INDEX idx_crew_name ON crew (personName);;''')\n",
    "cursor.execute(query)"
   ]
  },
  {
   "cell_type": "code",
   "execution_count": null,
   "metadata": {},
   "outputs": [],
   "source": [
    "start=time.time()\n",
    "query=('''select * from crew c where c.personName = 'Fred Astaire';''')\n",
    "cursor.execute(query)\n",
    "cursor.fetchone()\n",
    "end=time.time()\n",
    "timeWITHIndex=end-start\n",
    "print (\"Time taken with index :\",timeWITHIndex)"
   ]
  },
  {
   "cell_type": "markdown",
   "metadata": {},
   "source": [
    "Please find the execution time for before and after indexing below:"
   ]
  },
  {
   "cell_type": "markdown",
   "metadata": {},
   "source": [
    "<img src=\"images/Q12.png\">"
   ]
  }
 ],
 "metadata": {
  "kernelspec": {
   "display_name": "Python 3",
   "language": "python",
   "name": "python3"
  },
  "language_info": {
   "codemirror_mode": {
    "name": "ipython",
    "version": 3
   },
   "file_extension": ".py",
   "mimetype": "text/x-python",
   "name": "python",
   "nbconvert_exporter": "python",
   "pygments_lexer": "ipython3",
   "version": "3.7.9"
  }
 },
 "nbformat": 4,
 "nbformat_minor": 2
}
